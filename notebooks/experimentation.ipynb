{
 "cells": [
  {
   "cell_type": "code",
   "execution_count": 2,
   "metadata": {},
   "outputs": [],
   "source": [
    "# import dependencies\n",
    "import os\n",
    "import yaml\n",
    "import mysql.connector\n",
    "import numpy as np \n",
    "import pandas as pd \n",
    "import matplotlib.pyplot as plt\n",
    "import seaborn as sns"
   ]
  },
  {
   "cell_type": "markdown",
   "metadata": {},
   "source": [
    "## Data Ingestion\n",
    "##### In this component  we will retreive/ fetch data from different data sources such as databases, data lakes data warehouses for simplicity we are fetching from mysql."
   ]
  },
  {
   "cell_type": "code",
   "execution_count": 11,
   "metadata": {},
   "outputs": [
    {
     "name": "stdout",
     "output_type": "stream",
     "text": [
      "Connection is Established\n",
      "Dataset has been saved at data\\data.csv\n"
     ]
    }
   ],
   "source": [
    "import mysql.connector\n",
    "import pandas as pd\n",
    "import os\n",
    "\n",
    "class DataIngestion:\n",
    "    def __init__(self):\n",
    "        try:\n",
    "            # Make the database connection\n",
    "            self.conn = mysql.connector.connect(\n",
    "                host='127.0.0.1',\n",
    "                user='root',\n",
    "                password='Bilal@123',\n",
    "                database='rainfall'\n",
    "            )\n",
    "            # Make the cursor\n",
    "            self.cursor = self.conn.cursor()\n",
    "            print(\"Connection is Established\")\n",
    "        \n",
    "        except Exception as e:\n",
    "            print(f\"Error during connection: {e}\")\n",
    "    \n",
    "    def fetch_data(self):\n",
    "        try:\n",
    "            # Make the folder structure\n",
    "            folder = 'data'\n",
    "            os.makedirs(folder, exist_ok=True)  # Create the folder if it doesn't exist\n",
    "            filepath = os.path.join(folder, 'data.csv')\n",
    "            \n",
    "            # Select the table\n",
    "            self.cursor.execute(\"SELECT * FROM rainfall\")\n",
    "            \n",
    "            # Fetch all the data\n",
    "            data = self.cursor.fetchall()\n",
    "            \n",
    "            # Fetch all the column names\n",
    "            columns = [i[0] for i in self.cursor.description]\n",
    "            \n",
    "            # Convert the data into a DataFrame\n",
    "            data = pd.DataFrame(data, columns=columns)\n",
    "            \n",
    "            # Dump the data into the file path in CSV format\n",
    "            data.to_csv(filepath, index=False)\n",
    "            print(f\"Dataset has been saved at {filepath}\")\n",
    "        \n",
    "        except Exception as e:\n",
    "            print(f\"Error during data fetching: {e}\")\n",
    "\n",
    "if __name__ == \"__main__\":\n",
    "    obj = DataIngestion()\n",
    "    obj.fetch_data()\n"
   ]
  },
  {
   "cell_type": "markdown",
   "metadata": {},
   "source": [
    "## Data Validation\n",
    "\n",
    "##### In this component we will compare the features from real time prediction with the features we had while training if there is any mismatch we will trigger it and stop the further process"
   ]
  },
  {
   "cell_type": "code",
   "execution_count": 31,
   "metadata": {},
   "outputs": [
    {
     "name": "stdout",
     "output_type": "stream",
     "text": [
      "Validation status has been saved at data_validation\\validation.txt\n"
     ]
    }
   ],
   "source": [
    "# Read the dataset\n",
    "data = pd.read_csv(\"data/data.csv\")\n",
    "\n",
    "# Get all the features and convert them into a list\n",
    "all_cols = [col for col in data.columns if col != 'rainfall']\n",
    "\n",
    "# Get the schema columns\n",
    "with open('schema.yaml', 'r') as yaml_file:\n",
    "    schema = yaml.load(yaml_file, Loader=yaml.SafeLoader)\n",
    "\n",
    "# Get the schema columns from the dictionary and convert to a list\n",
    "all_schema = list(schema['COLUMNS'].keys())\n",
    "\n",
    "# Initialize validation status\n",
    "validation_status = True  # Assume valid unless a mismatch is found\n",
    "\n",
    "# Iterate over all_cols to validate\n",
    "for col in all_cols:\n",
    "    if col not in all_schema:\n",
    "        print(f\"{col} was not in schema\")\n",
    "        validation_status = False\n",
    "        break  # Exit loop if any column fails validation\n",
    "\n",
    "# Make a folder structure for validation\n",
    "folder = 'data_validation'\n",
    "os.makedirs(folder, exist_ok=True)\n",
    "\n",
    "# Set the validation file path\n",
    "filepath = os.path.join(folder, \"validation.txt\")\n",
    "\n",
    "# Write the validation status to the file\n",
    "with open(filepath, 'w') as f:\n",
    "    f.write(str(validation_status))  # Convert Boolean to string\n",
    "\n",
    "print(f\"Validation status has been saved at {filepath}\")\n"
   ]
  },
  {
   "cell_type": "code",
   "execution_count": 30,
   "metadata": {},
   "outputs": [
    {
     "data": {
      "text/html": [
       "<div>\n",
       "<style scoped>\n",
       "    .dataframe tbody tr th:only-of-type {\n",
       "        vertical-align: middle;\n",
       "    }\n",
       "\n",
       "    .dataframe tbody tr th {\n",
       "        vertical-align: top;\n",
       "    }\n",
       "\n",
       "    .dataframe thead th {\n",
       "        text-align: right;\n",
       "    }\n",
       "</style>\n",
       "<table border=\"1\" class=\"dataframe\">\n",
       "  <thead>\n",
       "    <tr style=\"text-align: right;\">\n",
       "      <th></th>\n",
       "      <th>day</th>\n",
       "      <th>pressure</th>\n",
       "      <th>maxtemp</th>\n",
       "      <th>temparature</th>\n",
       "      <th>mintemp</th>\n",
       "      <th>dewpoint</th>\n",
       "      <th>humidity</th>\n",
       "      <th>cloud</th>\n",
       "      <th>rainfall</th>\n",
       "      <th>sunshine</th>\n",
       "      <th>winddirection</th>\n",
       "      <th>windspeed</th>\n",
       "    </tr>\n",
       "  </thead>\n",
       "  <tbody>\n",
       "    <tr>\n",
       "      <th>0</th>\n",
       "      <td>1</td>\n",
       "      <td>1025.9</td>\n",
       "      <td>19.9</td>\n",
       "      <td>18.3</td>\n",
       "      <td>16.8</td>\n",
       "      <td>13.1</td>\n",
       "      <td>72</td>\n",
       "      <td>49</td>\n",
       "      <td>yes</td>\n",
       "      <td>9.3</td>\n",
       "      <td>80</td>\n",
       "      <td>26.3</td>\n",
       "    </tr>\n",
       "    <tr>\n",
       "      <th>1</th>\n",
       "      <td>2</td>\n",
       "      <td>1022.0</td>\n",
       "      <td>21.7</td>\n",
       "      <td>18.9</td>\n",
       "      <td>17.2</td>\n",
       "      <td>15.6</td>\n",
       "      <td>81</td>\n",
       "      <td>83</td>\n",
       "      <td>yes</td>\n",
       "      <td>0.6</td>\n",
       "      <td>50</td>\n",
       "      <td>15.3</td>\n",
       "    </tr>\n",
       "    <tr>\n",
       "      <th>2</th>\n",
       "      <td>3</td>\n",
       "      <td>1019.7</td>\n",
       "      <td>20.3</td>\n",
       "      <td>19.3</td>\n",
       "      <td>18.0</td>\n",
       "      <td>18.4</td>\n",
       "      <td>95</td>\n",
       "      <td>91</td>\n",
       "      <td>yes</td>\n",
       "      <td>0.0</td>\n",
       "      <td>40</td>\n",
       "      <td>14.2</td>\n",
       "    </tr>\n",
       "  </tbody>\n",
       "</table>\n",
       "</div>"
      ],
      "text/plain": [
       "   day  pressure  maxtemp  temparature  mintemp  dewpoint  humidity  cloud  \\\n",
       "0    1    1025.9     19.9         18.3     16.8      13.1        72     49   \n",
       "1    2    1022.0     21.7         18.9     17.2      15.6        81     83   \n",
       "2    3    1019.7     20.3         19.3     18.0      18.4        95     91   \n",
       "\n",
       "  rainfall  sunshine  winddirection  windspeed  \n",
       "0      yes       9.3             80       26.3  \n",
       "1      yes       0.6             50       15.3  \n",
       "2      yes       0.0             40       14.2  "
      ]
     },
     "execution_count": 30,
     "metadata": {},
     "output_type": "execute_result"
    }
   ],
   "source": [
    "data.head(3)"
   ]
  },
  {
   "cell_type": "code",
   "execution_count": null,
   "metadata": {},
   "outputs": [],
   "source": [
    "class DataValidation:\n",
    "    \n",
    "    def __init__(self):\n",
    "        \n",
    "        # read the dataset\n",
    "        self.data= pd.read_csv(\"data/data.csv\")\n",
    "        "
   ]
  }
 ],
 "metadata": {
  "kernelspec": {
   "display_name": ".venv",
   "language": "python",
   "name": "python3"
  },
  "language_info": {
   "codemirror_mode": {
    "name": "ipython",
    "version": 3
   },
   "file_extension": ".py",
   "mimetype": "text/x-python",
   "name": "python",
   "nbconvert_exporter": "python",
   "pygments_lexer": "ipython3",
   "version": "3.12.4"
  }
 },
 "nbformat": 4,
 "nbformat_minor": 2
}
